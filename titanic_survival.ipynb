{
 "cells": [
  {
   "cell_type": "markdown",
   "id": "3c3f461b",
   "metadata": {},
   "source": [
    "#  GaussianNB | naive_bayes\n",
    "this algorith is usually used in classification of the elements that are independept of some feature"
   ]
  },
  {
   "cell_type": "code",
   "execution_count": 2,
   "id": "38e57a77",
   "metadata": {},
   "outputs": [
    {
     "name": "stdout",
     "output_type": "stream",
     "text": [
      "     Pclass  Gender   Age     Fare  Survived\n",
      "0         3    male  22.0   7.2500         0\n",
      "1         1  female  38.0  71.2833         1\n",
      "2         3  female  26.0   7.9250         1\n",
      "3         1  female  35.0  53.1000         1\n",
      "4         3    male  35.0   8.0500         0\n",
      "..      ...     ...   ...      ...       ...\n",
      "886       2    male  27.0  13.0000         0\n",
      "887       1  female  19.0  30.0000         1\n",
      "888       3  female   NaN  23.4500         0\n",
      "889       1    male  26.0  30.0000         1\n",
      "890       3    male  32.0   7.7500         0\n",
      "\n",
      "[891 rows x 5 columns]\n"
     ]
    }
   ],
   "source": [
    "import pandas as pd\n",
    "path = \"C:\\\\Users\\\\mf879\\\\OneDrive\\\\Desktop\\\\Karunadu\\\\Data\\\\Data\\\\titanicsurvival.csv\"\n",
    "data= pd.read_csv(path)\n",
    "print(data)"
   ]
  },
  {
   "cell_type": "code",
   "execution_count": 3,
   "id": "fa0941e6",
   "metadata": {},
   "outputs": [
    {
     "name": "stdout",
     "output_type": "stream",
     "text": [
      "<class 'pandas.core.frame.DataFrame'>\n",
      "RangeIndex: 891 entries, 0 to 890\n",
      "Data columns (total 5 columns):\n",
      " #   Column    Non-Null Count  Dtype  \n",
      "---  ------    --------------  -----  \n",
      " 0   Pclass    891 non-null    int64  \n",
      " 1   Gender    891 non-null    object \n",
      " 2   Age       714 non-null    float64\n",
      " 3   Fare      891 non-null    float64\n",
      " 4   Survived  891 non-null    int64  \n",
      "dtypes: float64(2), int64(2), object(1)\n",
      "memory usage: 34.9+ KB\n",
      "None\n"
     ]
    }
   ],
   "source": [
    "print(data.info())"
   ]
  },
  {
   "cell_type": "code",
   "execution_count": 4,
   "id": "ae6f6fc8",
   "metadata": {},
   "outputs": [
    {
     "name": "stdout",
     "output_type": "stream",
     "text": [
      "(891, 5)\n"
     ]
    }
   ],
   "source": [
    "print(data.shape)"
   ]
  },
  {
   "cell_type": "code",
   "execution_count": 5,
   "id": "6cc62c4d",
   "metadata": {},
   "outputs": [
    {
     "data": {
      "text/plain": [
       "Pclass        0\n",
       "Gender        0\n",
       "Age         177\n",
       "Fare          0\n",
       "Survived      0\n",
       "dtype: int64"
      ]
     },
     "execution_count": 5,
     "metadata": {},
     "output_type": "execute_result"
    }
   ],
   "source": [
    "data.isnull().sum()"
   ]
  },
  {
   "cell_type": "code",
   "execution_count": 7,
   "id": "2509c522",
   "metadata": {},
   "outputs": [
    {
     "name": "stdout",
     "output_type": "stream",
     "text": [
      "28.0\n"
     ]
    }
   ],
   "source": [
    "medianvalue=data.Age.median()\n",
    "print(medianvalue)"
   ]
  },
  {
   "cell_type": "code",
   "execution_count": 8,
   "id": "da2eb09e",
   "metadata": {},
   "outputs": [
    {
     "name": "stdout",
     "output_type": "stream",
     "text": [
      "     Pclass  Gender   Age     Fare  Survived\n",
      "0         3    male  22.0   7.2500         0\n",
      "1         1  female  38.0  71.2833         1\n",
      "2         3  female  26.0   7.9250         1\n",
      "3         1  female  35.0  53.1000         1\n",
      "4         3    male  35.0   8.0500         0\n",
      "..      ...     ...   ...      ...       ...\n",
      "886       2    male  27.0  13.0000         0\n",
      "887       1  female  19.0  30.0000         1\n",
      "888       3  female  28.0  23.4500         0\n",
      "889       1    male  26.0  30.0000         1\n",
      "890       3    male  32.0   7.7500         0\n",
      "\n",
      "[891 rows x 5 columns]\n"
     ]
    }
   ],
   "source": [
    "data.Age=data.Age.fillna(medianvalue)\n",
    "print(data)"
   ]
  },
  {
   "cell_type": "code",
   "execution_count": 9,
   "id": "91763d13",
   "metadata": {},
   "outputs": [
    {
     "data": {
      "text/plain": [
       "Pclass      0\n",
       "Gender      0\n",
       "Age         0\n",
       "Fare        0\n",
       "Survived    0\n",
       "dtype: int64"
      ]
     },
     "execution_count": 9,
     "metadata": {},
     "output_type": "execute_result"
    }
   ],
   "source": [
    "data.isnull().sum()"
   ]
  },
  {
   "cell_type": "code",
   "execution_count": 10,
   "id": "1716f6a8",
   "metadata": {},
   "outputs": [
    {
     "name": "stdout",
     "output_type": "stream",
     "text": [
      "     Pclass  Gender   Age     Fare  Survived\n",
      "0         3       1  22.0   7.2500         0\n",
      "1         1       0  38.0  71.2833         1\n",
      "2         3       0  26.0   7.9250         1\n",
      "3         1       0  35.0  53.1000         1\n",
      "4         3       1  35.0   8.0500         0\n",
      "..      ...     ...   ...      ...       ...\n",
      "886       2       1  27.0  13.0000         0\n",
      "887       1       0  19.0  30.0000         1\n",
      "888       3       0  28.0  23.4500         0\n",
      "889       1       1  26.0  30.0000         1\n",
      "890       3       1  32.0   7.7500         0\n",
      "\n",
      "[891 rows x 5 columns]\n"
     ]
    }
   ],
   "source": [
    "data['Gender']=data['Gender'].map({'male':1,'female':0})\n",
    "print(data)"
   ]
  },
  {
   "cell_type": "code",
   "execution_count": 11,
   "id": "97cf0316",
   "metadata": {},
   "outputs": [
    {
     "name": "stdout",
     "output_type": "stream",
     "text": [
      "     Pclass  Gender   Age     Fare\n",
      "0         3       1  22.0   7.2500\n",
      "1         1       0  38.0  71.2833\n",
      "2         3       0  26.0   7.9250\n",
      "3         1       0  35.0  53.1000\n",
      "4         3       1  35.0   8.0500\n",
      "..      ...     ...   ...      ...\n",
      "886       2       1  27.0  13.0000\n",
      "887       1       0  19.0  30.0000\n",
      "888       3       0  28.0  23.4500\n",
      "889       1       1  26.0  30.0000\n",
      "890       3       1  32.0   7.7500\n",
      "\n",
      "[891 rows x 4 columns]\n",
      "     Survived\n",
      "0           0\n",
      "1           1\n",
      "2           1\n",
      "3           1\n",
      "4           0\n",
      "..        ...\n",
      "886         0\n",
      "887         1\n",
      "888         0\n",
      "889         1\n",
      "890         0\n",
      "\n",
      "[891 rows x 1 columns]\n"
     ]
    },
    {
     "name": "stderr",
     "output_type": "stream",
     "text": [
      "C:\\Users\\mf879\\AppData\\Local\\Temp\\ipykernel_7092\\1103768442.py:1: FutureWarning: In a future version of pandas all arguments of DataFrame.drop except for the argument 'labels' will be keyword-only.\n",
      "  inputs=data.drop('Survived','columns')\n",
      "C:\\Users\\mf879\\AppData\\Local\\Temp\\ipykernel_7092\\1103768442.py:2: FutureWarning: In a future version of pandas all arguments of DataFrame.drop except for the argument 'labels' will be keyword-only.\n",
      "  output=data.drop(['Pclass','Gender','Age','Fare'],'columns')\n"
     ]
    }
   ],
   "source": [
    "inputs=data.drop('Survived','columns')\n",
    "output=data.drop(['Pclass','Gender','Age','Fare'],'columns')\n",
    "print(inputs)\n",
    "print(output)"
   ]
  },
  {
   "cell_type": "code",
   "execution_count": 12,
   "id": "6849787e",
   "metadata": {},
   "outputs": [
    {
     "name": "stdout",
     "output_type": "stream",
     "text": [
      "     Pclass  Gender   Age     Fare\n",
      "239       2       1  33.0  12.2750\n",
      "427       2       0  19.0  26.0000\n",
      "464       3       1  28.0   8.0500\n",
      "545       1       1  64.0  26.0000\n",
      "678       3       0  43.0  46.9000\n",
      "..      ...     ...   ...      ...\n",
      "127       3       1  24.0   7.1417\n",
      "39        3       0  14.0  11.2417\n",
      "500       3       1  17.0   8.6625\n",
      "1         1       0  38.0  71.2833\n",
      "451       3       1  28.0  19.9667\n",
      "\n",
      "[712 rows x 4 columns]\n",
      "     Pclass  Gender    Age     Fare\n",
      "490       3       1  28.00  19.9667\n",
      "50        3       1   7.00  39.6875\n",
      "469       3       0   0.75  19.2583\n",
      "35        1       1  42.00  52.0000\n",
      "68        3       0  17.00   7.9250\n",
      "..      ...     ...    ...      ...\n",
      "358       3       0  28.00   7.8792\n",
      "455       3       1  29.00   7.8958\n",
      "366       1       0  60.00  75.2500\n",
      "224       1       1  38.00  90.0000\n",
      "823       3       0  27.00  12.4750\n",
      "\n",
      "[179 rows x 4 columns]\n",
      "     Survived\n",
      "239         0\n",
      "427         1\n",
      "464         0\n",
      "545         0\n",
      "678         0\n",
      "..        ...\n",
      "127         1\n",
      "39          1\n",
      "500         0\n",
      "1           1\n",
      "451         0\n",
      "\n",
      "[712 rows x 1 columns]\n",
      "     Survived\n",
      "490         0\n",
      "50          0\n",
      "469         1\n",
      "35          0\n",
      "68          1\n",
      "..        ...\n",
      "358         1\n",
      "455         1\n",
      "366         1\n",
      "224         1\n",
      "823         1\n",
      "\n",
      "[179 rows x 1 columns]\n"
     ]
    }
   ],
   "source": [
    "import sklearn\n",
    "from sklearn.model_selection import train_test_split\n",
    "x_train,x_test,y_train,y_test=train_test_split(inputs,output,train_size=0.8)\n",
    "print(x_train)\n",
    "print(x_test)\n",
    "print(y_train)\n",
    "print(y_test)"
   ]
  },
  {
   "cell_type": "code",
   "execution_count": 13,
   "id": "43a58449",
   "metadata": {},
   "outputs": [
    {
     "name": "stdout",
     "output_type": "stream",
     "text": [
      "[0 0 1 0 1 0 0 0 0 0 1 0 1 0 1 0 1 0 1 0 0 0 1 1 0 1 0 0 0 0 1 1 1 1 0 1 0\n",
      " 0 1 1 0 0 1 1 1 0 1 0 1 1 1 0 0 0 1 1 1 0 1 1 0 0 1 0 0 0 0 1 1 0 0 0 0 1\n",
      " 1 0 1 0 1 0 0 0 1 1 1 1 0 1 0 0 0 0 1 1 0 1 0 0 0 1 0 0 0 1 0 1 0 0 0 1 1\n",
      " 0 0 1 1 0 0 1 1 1 0 1 0 1 0 1 0 0 0 0 0 0 1 0 0 1 0 1 0 0 0 1 0 0 1 0 0 1\n",
      " 1 0 1 0 1 0 1 1 0 1 1 0 0 0 1 0 0 1 1 1 0 1 1 1 1 1 1 0 1 1 1]\n",
      "     Survived\n",
      "490         0\n",
      "50          0\n",
      "469         1\n",
      "35          0\n",
      "68          1\n",
      "..        ...\n",
      "358         1\n",
      "455         1\n",
      "366         1\n",
      "224         1\n",
      "823         1\n",
      "\n",
      "[179 rows x 1 columns]\n"
     ]
    },
    {
     "name": "stderr",
     "output_type": "stream",
     "text": [
      "C:\\Users\\mf879\\AppData\\Local\\Programs\\Python\\Python310\\lib\\site-packages\\sklearn\\utils\\validation.py:1184: DataConversionWarning: A column-vector y was passed when a 1d array was expected. Please change the shape of y to (n_samples, ), for example using ravel().\n",
      "  y = column_or_1d(y, warn=True)\n"
     ]
    }
   ],
   "source": [
    "from sklearn.naive_bayes import GaussianNB\n",
    "model=GaussianNB()\n",
    "model.fit(x_train,y_train)\n",
    "y_pred=model.predict(x_test)\n",
    "print(y_pred)\n",
    "print(y_test)"
   ]
  },
  {
   "cell_type": "code",
   "execution_count": 14,
   "id": "ba78c2db",
   "metadata": {},
   "outputs": [
    {
     "name": "stdout",
     "output_type": "stream",
     "text": [
      "Enter the person pclass:2\n",
      "Enter the gender of the person 0-> female & 1-> Male 1\n",
      "Enter the person age :24\n",
      "enter the fare 100\n",
      "[1]\n",
      "Person is survuved \n"
     ]
    },
    {
     "name": "stderr",
     "output_type": "stream",
     "text": [
      "C:\\Users\\mf879\\AppData\\Local\\Programs\\Python\\Python310\\lib\\site-packages\\sklearn\\base.py:464: UserWarning: X does not have valid feature names, but GaussianNB was fitted with feature names\n",
      "  warnings.warn(\n"
     ]
    }
   ],
   "source": [
    "pclass=int(input(\"Enter the person pclass:\"))\n",
    "gender=int(input(\"Enter the gender of the person 0-> female & 1-> Male \"))\n",
    "age=int(input(\"Enter the person age :\"))\n",
    "fare=int(input(\"enter the fare \"))\n",
    "result=model.predict([[pclass,gender,age,fare]])\n",
    "print(result)\n",
    "if result ==1:\n",
    "    print(\"Person is survuved \")\n",
    "else :\n",
    "    print(\"Person did not survuve \")"
   ]
  },
  {
   "cell_type": "code",
   "execution_count": null,
   "id": "589c6c33",
   "metadata": {},
   "outputs": [],
   "source": []
  }
 ],
 "metadata": {
  "kernelspec": {
   "display_name": "Python 3 (ipykernel)",
   "language": "python",
   "name": "python3"
  },
  "language_info": {
   "codemirror_mode": {
    "name": "ipython",
    "version": 3
   },
   "file_extension": ".py",
   "mimetype": "text/x-python",
   "name": "python",
   "nbconvert_exporter": "python",
   "pygments_lexer": "ipython3",
   "version": "3.10.1"
  }
 },
 "nbformat": 4,
 "nbformat_minor": 5
}
